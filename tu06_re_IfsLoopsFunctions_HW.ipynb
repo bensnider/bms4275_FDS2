{
 "cells": [
  {
   "cell_type": "markdown",
   "id": "81d19d16",
   "metadata": {},
   "source": [
    "   # Ifs, loops, and function homework"
   ]
  },
  {
   "cell_type": "markdown",
   "id": "bd745db6",
   "metadata": {},
   "source": [
    "## 1. A function to reverse a string \n",
    "\n",
    "Write and test a function that reverses a string entered by a user. This function will have one input value (a string) and one output value (also a string).\n",
    "\n",
    "Test your function on, among other things, Napoleon's quote 'able was i ere i saw elba'"
   ]
  },
  {
   "cell_type": "code",
   "execution_count": 3,
   "id": "551a9bcb",
   "metadata": {},
   "outputs": [],
   "source": [
    "def print_reverse(inp_string) :\n",
    "    blank_list = []\n",
    "    make_string = ''\n",
    "    for i in reversed(inp_string) :\n",
    "        blank_list.append(i)\n",
    "    outp_string = make_string.join(blank_list)\n",
    "    return outp_string"
   ]
  },
  {
   "cell_type": "code",
   "execution_count": 226,
   "id": "fa9829d1",
   "metadata": {},
   "outputs": [
    {
     "data": {
      "text/plain": [
       "'able was i ere i saw elba'"
      ]
     },
     "execution_count": 226,
     "metadata": {},
     "output_type": "execute_result"
    }
   ],
   "source": [
    "napoleon = 'able was i ere i saw elba'\n",
    "print_reverse(napoleon)"
   ]
  },
  {
   "cell_type": "markdown",
   "id": "72bc6f2e",
   "metadata": {},
   "source": [
    "*Optional challenge*: run the above on \"race car\" and then fix the resulting string."
   ]
  },
  {
   "cell_type": "code",
   "execution_count": 236,
   "id": "7abd516b",
   "metadata": {},
   "outputs": [
    {
     "name": "stdout",
     "output_type": "stream",
     "text": [
      "rac ecar\n",
      "race car\n"
     ]
    }
   ],
   "source": [
    "print(print_reverse('race car'))\n",
    "def better_print_reverse(inp_string) :                #this is a pretty silly solution, but technically it works, right?\n",
    "    backwards_list = []\n",
    "    make_string = ''\n",
    "    for i in reversed(inp_string) :\n",
    "        backwards_list.append(i)\n",
    "    forwards_list = []\n",
    "    for j in reversed(backwards_list) :\n",
    "        forwards_list.append(j)\n",
    "    outp_string = make_string.join(forwards_list)\n",
    "    return outp_string\n",
    "print(better_print_reverse('race car'))"
   ]
  },
  {
   "cell_type": "markdown",
   "id": "f351711e",
   "metadata": {},
   "source": [
    "## 2. Determine if a number is prime\n",
    "\n",
    "Write some code to test whether a number is prime or not, a prime number being an integer that is evenly divisible only by 1 and itself. \n",
    "\n",
    "Hint: another way to think about a prime number is that, if the smallest number (other than 1) that divides evenly into a number *is* that number, than the number is a prime.\n",
    "\n",
    "The easiest solution involves one `while` loop and one `if` test."
   ]
  },
  {
   "cell_type": "code",
   "execution_count": 90,
   "id": "4bef5c5c",
   "metadata": {},
   "outputs": [
    {
     "name": "stdout",
     "output_type": "stream",
     "text": [
      "Your number is NOT prime\n"
     ]
    }
   ],
   "source": [
    "num = 10\n",
    "count = 2\n",
    "while count < num :\n",
    "    test = num % count\n",
    "    if (test == 0) :\n",
    "        print(\"Your number is NOT prime\")\n",
    "        break\n",
    "    count += 1\n",
    "if (test != 0) or (num == 2) or (num == 1) :\n",
    "    print(\"Your number IS prime\")"
   ]
  },
  {
   "cell_type": "markdown",
   "id": "97515edc",
   "metadata": {},
   "source": [
    "## 3. Find the first 10 primes\n",
    "\n",
    "Extend your code above to find the first 10 prime numbers. This will involve wrapping your existing code in another \"outer\" loop.\n"
   ]
  },
  {
   "cell_type": "code",
   "execution_count": 110,
   "id": "f518030e",
   "metadata": {},
   "outputs": [
    {
     "name": "stdout",
     "output_type": "stream",
     "text": [
      "[1, 2, 3, 5, 7, 11, 13, 17, 19, 23]\n"
     ]
    }
   ],
   "source": [
    "primes = []\n",
    "for i in range(100000000000000000000000) :\n",
    "    num = 1 + i\n",
    "    count = 2\n",
    "    while count < num :\n",
    "        test = num % count\n",
    "        if (test == 0) :\n",
    "            break\n",
    "        count += 1\n",
    "    if (test != 0) or (num == 2) or (num == 1) :\n",
    "        primes.append(num)\n",
    "    if (len(primes) == 10) :\n",
    "        break\n",
    "print(primes)"
   ]
  },
  {
   "cell_type": "code",
   "execution_count": 111,
   "id": "deb9f088",
   "metadata": {},
   "outputs": [
    {
     "data": {
      "text/plain": [
       "1"
      ]
     },
     "execution_count": 111,
     "metadata": {},
     "output_type": "execute_result"
    }
   ],
   "source": [
    "test"
   ]
  },
  {
   "cell_type": "markdown",
   "id": "13c2c9d2",
   "metadata": {},
   "source": [
    "## 4. Make a function to compute the first n primes\n",
    "\n",
    "Functionalize (is that a word?) your above code. A user should be able to call your code with one integer argument and get a list back containing that number of primes. Make sure your function handles inputs of an incorrect type gracefully. You should also warn the user if they enter a really big number (which could take a long time...), and give them the option of either bailing or entering a different number."
   ]
  },
  {
   "cell_type": "code",
   "execution_count": 239,
   "id": "2b2f95a0",
   "metadata": {},
   "outputs": [],
   "source": [
    "def get_primes(num_of_primes) :\n",
    "    leave = False\n",
    "    if (isinstance(num_of_primes, int) != True) or (num_of_primes < 0):\n",
    "        print(\"Oh no! That's not a valid input. Please try again!\")\n",
    "        leave = True\n",
    "    if (num_of_primes > 5000) :\n",
    "        print(\"Wow! That's a lot of primes!\")\n",
    "        big_input = input(\"Please input a different number or type 'leave' to exit\")\n",
    "        if (big_input == 'leave') :\n",
    "            leave = True\n",
    "        else :\n",
    "            num_of_primes = int(big_input)\n",
    "    if (leave == False) :\n",
    "        primes = []\n",
    "        for i in range(1000000) :\n",
    "            num = 1 + i\n",
    "            count = 2\n",
    "            test = 1\n",
    "            while count < num :\n",
    "                test = num % count\n",
    "                if (test == 0) :\n",
    "                    break\n",
    "                count += 1\n",
    "            if (test != 0) or (num == 2) or (num == 1) :\n",
    "                primes.append(num)\n",
    "            if (len(primes) == num_of_primes) :\n",
    "                break\n",
    "        return primes\n",
    "    else :\n",
    "        print(\"Exiting tool! See you next time!\")"
   ]
  },
  {
   "cell_type": "code",
   "execution_count": 241,
   "id": "acfe94b1",
   "metadata": {},
   "outputs": [
    {
     "data": {
      "text/plain": [
       "[1, 2]"
      ]
     },
     "execution_count": 241,
     "metadata": {},
     "output_type": "execute_result"
    }
   ],
   "source": [
    "get_primes(2)"
   ]
  }
 ],
 "metadata": {
  "kernelspec": {
   "display_name": "Python 3 (ipykernel)",
   "language": "python",
   "name": "python3"
  },
  "language_info": {
   "codemirror_mode": {
    "name": "ipython",
    "version": 3
   },
   "file_extension": ".py",
   "mimetype": "text/x-python",
   "name": "python",
   "nbconvert_exporter": "python",
   "pygments_lexer": "ipython3",
   "version": "3.11.4"
  }
 },
 "nbformat": 4,
 "nbformat_minor": 5
}
