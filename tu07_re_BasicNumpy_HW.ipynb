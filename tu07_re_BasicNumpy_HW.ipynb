{
 "cells": [
  {
   "cell_type": "markdown",
   "id": "1f1534b9",
   "metadata": {},
   "source": [
    "# Numpy review homework"
   ]
  },
  {
   "cell_type": "markdown",
   "id": "4db19bcf",
   "metadata": {},
   "source": [
    "1. Make a numpy matrix from a Python list of lists..."
   ]
  },
  {
   "cell_type": "code",
   "execution_count": 2,
   "id": "6b140a06",
   "metadata": {},
   "outputs": [
    {
     "data": {
      "text/plain": [
       "array([[1, 2, 3],\n",
       "       [4, 5, 6],\n",
       "       [7, 8, 9]])"
      ]
     },
     "execution_count": 2,
     "metadata": {},
     "output_type": "execute_result"
    }
   ],
   "source": [
    "import numpy as np\n",
    "lists = [[1, 2, 3], [4, 5, 6], [7, 8, 9]]\n",
    "np.array(lists)"
   ]
  },
  {
   "cell_type": "markdown",
   "id": "dd6e8ffb",
   "metadata": {},
   "source": [
    "2. Make a 3D numpy matrix from a Python list of lists of lists!"
   ]
  },
  {
   "cell_type": "code",
   "execution_count": 3,
   "id": "c977766b",
   "metadata": {},
   "outputs": [
    {
     "data": {
      "text/plain": [
       "array([[[1, 2, 3],\n",
       "        [4, 5, 6],\n",
       "        [7, 8, 9]],\n",
       "\n",
       "       [[1, 2, 3],\n",
       "        [4, 5, 6],\n",
       "        [7, 8, 9]],\n",
       "\n",
       "       [[1, 2, 3],\n",
       "        [4, 5, 6],\n",
       "        [7, 8, 9]]])"
      ]
     },
     "execution_count": 3,
     "metadata": {},
     "output_type": "execute_result"
    }
   ],
   "source": [
    "lists_of_lists = [[[1, 2, 3], [4, 5, 6], [7, 8, 9]], [[1, 2, 3], [4, 5, 6], [7, 8, 9]], [[1, 2, 3], [4, 5, 6], [7, 8, 9]]]\n",
    "np.array(lists_of_lists)"
   ]
  },
  {
   "cell_type": "markdown",
   "id": "8ad64691",
   "metadata": {},
   "source": [
    "3. Create a 5x3 array of Gaussian random numbers. "
   ]
  },
  {
   "cell_type": "code",
   "execution_count": 30,
   "id": "5f280edc",
   "metadata": {},
   "outputs": [
    {
     "name": "stdout",
     "output_type": "stream",
     "text": [
      "[[ 1.06423433  0.56612222 -0.30626045]\n",
      " [-1.54374125  0.29574638  0.31381498]\n",
      " [-0.06003507  0.31892978 -0.79770786]\n",
      " [-0.724865    1.36611505  1.35239911]\n",
      " [ 1.970519   -0.30257936  0.33470478]]\n"
     ]
    }
   ],
   "source": [
    "gaus = np.random.randn(5,3)\n",
    "print(gaus)"
   ]
  },
  {
   "cell_type": "markdown",
   "id": "d129639e",
   "metadata": {},
   "source": [
    "4. Write a script to go through the array created in 3. and announce (print) the value and its row and column indexes.\n",
    "\n",
    "Hint: Use nested `for` loops - one to loop through the rows and one to loop through the columns."
   ]
  },
  {
   "cell_type": "code",
   "execution_count": 39,
   "id": "9cdfb183",
   "metadata": {},
   "outputs": [
    {
     "name": "stdout",
     "output_type": "stream",
     "text": [
      "The value at row: [1] and column: [1] is 1.0642343331214061\n",
      "The value at row: [1] and column: [2] is 0.5661222217198899\n",
      "The value at row: [1] and column: [3] is -0.30626044552525084\n",
      "The value at row: [2] and column: [1] is -1.5437412491720597\n",
      "The value at row: [2] and column: [2] is 0.29574638458506575\n",
      "The value at row: [2] and column: [3] is 0.3138149766594593\n",
      "The value at row: [3] and column: [1] is -0.06003506606467597\n",
      "The value at row: [3] and column: [2] is 0.3189297751087124\n",
      "The value at row: [3] and column: [3] is -0.7977078601227465\n",
      "The value at row: [4] and column: [1] is -0.7248649961379671\n",
      "The value at row: [4] and column: [2] is 1.366115048370097\n",
      "The value at row: [4] and column: [3] is 1.352399106714507\n",
      "The value at row: [5] and column: [1] is 1.9705189950434572\n",
      "The value at row: [5] and column: [2] is -0.3025793559230522\n",
      "The value at row: [5] and column: [3] is 0.3347047835028733\n"
     ]
    }
   ],
   "source": [
    "for i in range(5):\n",
    "    gaus[i]\n",
    "    for j in range(3): \n",
    "        print(f\"The value at row: {[i+1]} and column: {[j+1]} is {gaus[i,j]}\")"
   ]
  },
  {
   "cell_type": "markdown",
   "id": "2f6c8094",
   "metadata": {},
   "source": [
    "5. Make an new array out of your random numbers such that the mean is 10 and the standard deviation is 3."
   ]
  },
  {
   "cell_type": "code",
   "execution_count": 5,
   "id": "b8cfc374",
   "metadata": {},
   "outputs": [
    {
     "name": "stdout",
     "output_type": "stream",
     "text": [
      "[[ 8.17561006 13.84311728 13.08669988]\n",
      " [ 6.3730152  14.08190314 13.26248189]\n",
      " [11.52449614 13.04444886  9.92407492]\n",
      " [ 9.15128479 10.72495887 12.06622937]\n",
      " [12.78531801 13.55492335 12.08482396]]\n"
     ]
    }
   ],
   "source": [
    "random_nums = 10 + 3 * np.random.randn(5,3)\n",
    "print(random_nums)"
   ]
  },
  {
   "cell_type": "markdown",
   "id": "431e4556",
   "metadata": {},
   "source": [
    "6. Count the number of values in your new array that are below 7."
   ]
  },
  {
   "cell_type": "code",
   "execution_count": 25,
   "id": "80cb12c5",
   "metadata": {},
   "outputs": [
    {
     "data": {
      "text/plain": [
       "1"
      ]
     },
     "execution_count": 25,
     "metadata": {},
     "output_type": "execute_result"
    }
   ],
   "source": [
    "below_sev = sum(random_nums < 7)\n",
    "below_sev.sum()"
   ]
  },
  {
   "cell_type": "markdown",
   "id": "f7191a90",
   "metadata": {},
   "source": [
    "7. Make a numpy sequence that has the even numbers from 2 up to (and including) 20."
   ]
  },
  {
   "cell_type": "code",
   "execution_count": 28,
   "id": "23277d0c",
   "metadata": {},
   "outputs": [
    {
     "data": {
      "text/plain": [
       "array([ 2,  4,  6,  8, 10, 12, 14, 16, 18, 20])"
      ]
     },
     "execution_count": 28,
     "metadata": {},
     "output_type": "execute_result"
    }
   ],
   "source": [
    "np.arange(2, 21, 2)"
   ]
  },
  {
   "cell_type": "markdown",
   "id": "40bd499e",
   "metadata": {},
   "source": [
    "8. Get the second and third rows of your array created in #5."
   ]
  },
  {
   "cell_type": "code",
   "execution_count": 12,
   "id": "1abb0c7b",
   "metadata": {},
   "outputs": [
    {
     "data": {
      "text/plain": [
       "array([[ 6.3730152 , 14.08190314, 13.26248189],\n",
       "       [11.52449614, 13.04444886,  9.92407492]])"
      ]
     },
     "execution_count": 12,
     "metadata": {},
     "output_type": "execute_result"
    }
   ],
   "source": [
    "random_nums[1:3, :]"
   ]
  },
  {
   "cell_type": "markdown",
   "id": "1c3779c3",
   "metadata": {},
   "source": [
    "9. Compute the mean of the columns of your array created in #5."
   ]
  },
  {
   "cell_type": "code",
   "execution_count": 20,
   "id": "4e166283",
   "metadata": {},
   "outputs": [
    {
     "data": {
      "text/plain": [
       "array([ 9.60194484, 13.0498703 , 12.084862  ])"
      ]
     },
     "execution_count": 20,
     "metadata": {},
     "output_type": "execute_result"
    }
   ],
   "source": [
    "random_nums.mean(0)"
   ]
  }
 ],
 "metadata": {
  "kernelspec": {
   "display_name": "Python 3 (ipykernel)",
   "language": "python",
   "name": "python3"
  },
  "language_info": {
   "codemirror_mode": {
    "name": "ipython",
    "version": 3
   },
   "file_extension": ".py",
   "mimetype": "text/x-python",
   "name": "python",
   "nbconvert_exporter": "python",
   "pygments_lexer": "ipython3",
   "version": "3.11.4"
  }
 },
 "nbformat": 4,
 "nbformat_minor": 5
}
