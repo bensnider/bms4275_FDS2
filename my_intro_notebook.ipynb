{
 "cells": [
  {
   "cell_type": "markdown",
   "id": "6cd61c92",
   "metadata": {},
   "source": [
    "# I Love Using Markdown\n",
    "It's so much to do **stuff**\n",
    "## But What Kind of Things Are We Doing?\n",
    "*It's magic!*\n",
    "\n",
    "For example:\n",
    "* Coding\n",
    "* Python\n",
    "* Brewing potions\n",
    "\n",
    "### I can make changes to this cell! Wow!"
   ]
  },
  {
   "cell_type": "code",
   "execution_count": null,
   "id": "32b6a55e",
   "metadata": {},
   "outputs": [],
   "source": []
  },
  {
   "cell_type": "code",
   "execution_count": null,
   "id": "39894709",
   "metadata": {},
   "outputs": [],
   "source": []
  },
  {
   "cell_type": "code",
   "execution_count": null,
   "id": "36629541",
   "metadata": {},
   "outputs": [],
   "source": []
  },
  {
   "cell_type": "markdown",
   "id": "41b12000",
   "metadata": {},
   "source": []
  },
  {
   "cell_type": "code",
   "execution_count": null,
   "id": "efc02c4f",
   "metadata": {},
   "outputs": [],
   "source": []
  },
  {
   "cell_type": "markdown",
   "id": "1adbb28a",
   "metadata": {},
   "source": []
  }
 ],
 "metadata": {
  "kernelspec": {
   "display_name": "Python 3 (ipykernel)",
   "language": "python",
   "name": "python3"
  },
  "language_info": {
   "codemirror_mode": {
    "name": "ipython",
    "version": 3
   },
   "file_extension": ".py",
   "mimetype": "text/x-python",
   "name": "python",
   "nbconvert_exporter": "python",
   "pygments_lexer": "ipython3",
   "version": "3.11.4"
  }
 },
 "nbformat": 4,
 "nbformat_minor": 5
}
