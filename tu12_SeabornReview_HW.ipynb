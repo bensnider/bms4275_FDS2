{
 "cells": [
  {
   "cell_type": "markdown",
   "id": "35629604",
   "metadata": {},
   "source": [
    "Write a function that uses `seaborn` to visualize data as we need it!\n",
    "We'll work on the penguins dataset and plot the numeric variables *except for* body mass."
   ]
  },
  {
   "cell_type": "code",
   "execution_count": 31,
   "id": "0697f0a8",
   "metadata": {},
   "outputs": [],
   "source": [
    "import seaborn as sns\n",
    "penguins = sns.load_dataset(\"penguins\")\n",
    "select_penguins = penguins[['bill_length_mm', 'bill_depth_mm', 'flipper_length_mm']]"
   ]
  },
  {
   "cell_type": "markdown",
   "id": "e78064f9",
   "metadata": {},
   "source": [
    "\n",
    "To flex both our plotting and function writing muscles, let's write a function to do some plotting! Your function should:\n",
    "\n",
    "* take as input the penguins  data frame\n",
    "* allow the user to choose between a strip, violin, or box plot\n",
    "* set one of the above three be the default\n",
    "* have a docstr so users can get help() on it\n",
    "* produce the plot requested by the user (of course!)\n",
    "* provide a meanignful help"
   ]
  },
  {
   "cell_type": "markdown",
   "id": "0050f247",
   "metadata": {},
   "source": [
    "Write function"
   ]
  },
  {
   "cell_type": "code",
   "execution_count": 28,
   "id": "787191bb",
   "metadata": {},
   "outputs": [],
   "source": [
    "def sns_plot(data, kind='box') :\n",
    "    '''\n",
    "    Takes input data and graph type selection (violin, strip, or box plot) and returns a Seaborn catplot\n",
    "    \n",
    "    data = input data that is to be graphed. must be in a Pandas DataFrame\n",
    "    kind = allows for selection of graph type\n",
    "    '''\n",
    "    import seaborn as sns\n",
    "    graph = sns.catplot(data=data, kind=kind)\n",
    "    return graph"
   ]
  },
  {
   "cell_type": "markdown",
   "id": "60df2b45",
   "metadata": {},
   "source": [
    "Get help on function"
   ]
  },
  {
   "cell_type": "code",
   "execution_count": 29,
   "id": "c7e9ad3d",
   "metadata": {
    "scrolled": true
   },
   "outputs": [
    {
     "name": "stdout",
     "output_type": "stream",
     "text": [
      "Help on function sns_plot in module __main__:\n",
      "\n",
      "sns_plot(data, kind='box')\n",
      "    Takes input data and graph type selection (violin, strip, or box plot) and returns a Seaborn catplot\n",
      "    \n",
      "    data = input data that is to be graphed. must be in a Pandas DataFrame\n",
      "    kind = allows for selection of graph type\n",
      "\n"
     ]
    }
   ],
   "source": [
    "help(sns_plot)"
   ]
  },
  {
   "cell_type": "markdown",
   "id": "40068c63",
   "metadata": {},
   "source": [
    "run function"
   ]
  },
  {
   "cell_type": "code",
   "execution_count": 33,
   "id": "57d3bdb7",
   "metadata": {},
   "outputs": [
    {
     "data": {
      "text/plain": [
       "<seaborn.axisgrid.FacetGrid at 0x279d0225dd0>"
      ]
     },
     "execution_count": 33,
     "metadata": {},
     "output_type": "execute_result"
    },
    {
     "data": {
      "image/png": "[encoded data removed]",
      "text/plain": [
       "<Figure size 500x500 with 1 Axes>"
      ]
     },
     "metadata": {},
     "output_type": "display_data"
    }
   ],
   "source": [
    "sns_plot(select_penguins)"
   ]
  }
 ],
 "metadata": {
  "kernelspec": {
   "display_name": "Python 3 (ipykernel)",
   "language": "python",
   "name": "python3"
  },
  "language_info": {
   "codemirror_mode": {
    "name": "ipython",
    "version": 3
   },
   "file_extension": ".py",
   "mimetype": "text/x-python",
   "name": "python",
   "nbconvert_exporter": "python",
   "pygments_lexer": "ipython3",
   "version": "3.11.4"
  }
 },
 "nbformat": 4,
 "nbformat_minor": 5
}
